{
 "cells": [
  {
   "cell_type": "markdown",
   "metadata": {},
   "source": [
    "# Funciones\n",
    "\n",
    "Las funciones son elementales para desarrollar cualquier problema de matematicas. \n",
    "¿Como se usan las funciones en **sympy**?\n",
    "1. Funciones Trigonometricas.\n",
    "2. Funciones Trigonometricas Inversas.\n",
    "3. Funciones Hiperbolicas.\n",
    "4. Funciones Hiperbolicas Inversas.\n",
    "5. Funciones Exponenciales."
   ]
  },
  {
   "cell_type": "markdown",
   "metadata": {},
   "source": [
    "## 1. Funciones Trigonometricas\n",
    "Siendo estas las siguientes:\n",
    "- Seno, coseno, tangente\n",
    "- Secante, cosecante, cotangente\n",
    "- sinc"
   ]
  },
  {
   "cell_type": "code",
   "execution_count": 3,
   "metadata": {},
   "outputs": [
    {
     "data": {
      "text/latex": [
       "$\\displaystyle 1$"
      ],
      "text/plain": [
       "1"
      ]
     },
     "execution_count": 3,
     "metadata": {},
     "output_type": "execute_result"
    }
   ],
   "source": [
    "from sympy import sin, cos, tan, pi\n",
    "from sympy.abc import x #Importando directamente 'x' como simbolo\n",
    "\n",
    "sin(pi/2) #1\n",
    "cos(pi/4) #sqrt(2)/2\n",
    "tan(pi/4) #1 \n",
    "\n",
    "sin(x) # sin(x)\n",
    "\n",
    "sin(pi/3)**2 + cos(pi/3)**2 #1"
   ]
  },
  {
   "cell_type": "code",
   "execution_count": 10,
   "metadata": {},
   "outputs": [
    {
     "data": {
      "text/latex": [
       "$\\displaystyle 1$"
      ],
      "text/plain": [
       "1"
      ]
     },
     "execution_count": 10,
     "metadata": {},
     "output_type": "execute_result"
    }
   ],
   "source": [
    "from sympy import csc, sec, cot, pi\n",
    "from sympy.abc import x #Importando directamente 'x' como simbolo\n",
    "from sympy import sin, cos, tan, simplify #simplify es un modulo para simplificar una expresion\n",
    "\n",
    "csc(pi/2) == 1/sin(pi/2) #true\n",
    "sec(pi/3) == 1/cos(pi/3) #true\n",
    "simplify(cot(x) - 1/tan(x)) # cot(x) == 1/tan(x) =>  cot(x) - 1/tan(x) = 0  -> 0\n",
    "\n",
    "csc(x**2) # csc(x^2)\n",
    "\n",
    "simplify(sec(x)**2 - tan(x)**2) #1"
   ]
  },
  {
   "cell_type": "markdown",
   "metadata": {},
   "source": [
    "\\begin{split}\\operatorname{sinc}(x) =\n",
    "\\begin{cases}\n",
    "  \\frac{\\sin x}{x} & \\qquad x \\neq 0 \\\\\n",
    "  1 & \\qquad x = 0\n",
    "\\end{cases}\\end{split}"
   ]
  },
  {
   "cell_type": "code",
   "execution_count": 22,
   "metadata": {},
   "outputs": [
    {
     "data": {
      "text/latex": [
       "$\\displaystyle \\operatorname{sinc}{\\left(\\frac{\\pi}{4} \\right)}$"
      ],
      "text/plain": [
       "sinc(pi/4)"
      ]
     },
     "execution_count": 22,
     "metadata": {},
     "output_type": "execute_result"
    }
   ],
   "source": [
    "from sympy import sinc, sin, pi \n",
    "from sympy.abc import x\n",
    "\n",
    "from sympy import simplify\n",
    "from sympy import oo # infinito\n",
    "sin(oo) #AccumBounds(-1, 1)+\n",
    "sinc(oo) # 0 \n",
    "\n",
    "sinc()"
   ]
  },
  {
   "cell_type": "markdown",
   "metadata": {},
   "source": []
  }
 ],
 "metadata": {
  "interpreter": {
   "hash": "2a432951ca0528b215dd4db881eabaa633a0f9bc05869628c01712db43a3dd50"
  },
  "kernelspec": {
   "display_name": "Python 3.10.1 ('venv': venv)",
   "language": "python",
   "name": "python3"
  },
  "language_info": {
   "codemirror_mode": {
    "name": "ipython",
    "version": 3
   },
   "file_extension": ".py",
   "mimetype": "text/x-python",
   "name": "python",
   "nbconvert_exporter": "python",
   "pygments_lexer": "ipython3",
   "version": "3.10.1"
  },
  "orig_nbformat": 4
 },
 "nbformat": 4,
 "nbformat_minor": 2
}
